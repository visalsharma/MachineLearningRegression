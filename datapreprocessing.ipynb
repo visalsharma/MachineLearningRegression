{
  "nbformat": 4,
  "nbformat_minor": 0,
  "metadata": {
    "colab": {
      "name": "datapreprocessing.ipynb",
      "provenance": []
    },
    "kernelspec": {
      "name": "python3",
      "display_name": "Python 3"
    }
  },
  "cells": [
    {
      "cell_type": "markdown",
      "metadata": {
        "id": "Wlw5kPNjxpYf",
        "colab_type": "text"
      },
      "source": [
        "**Importing the Library**"
      ]
    },
    {
      "cell_type": "markdown",
      "metadata": {
        "id": "NgfZbFc2JZXV",
        "colab_type": "text"
      },
      "source": [
        "File is basic steps need to prepare the data and do some data management. \n",
        "\n",
        "I am not the only one who created it completely. however learn from different teachers and experience. "
      ]
    },
    {
      "cell_type": "code",
      "metadata": {
        "id": "prRsFxL1xugz",
        "colab_type": "code",
        "colab": {}
      },
      "source": [
        "import numpy as np\n",
        "import matplotlib.pyplot as plt\n",
        "import pandas as pd"
      ],
      "execution_count": null,
      "outputs": []
    },
    {
      "cell_type": "code",
      "metadata": {
        "id": "8bfzQgZdPA1c",
        "colab_type": "code",
        "colab": {}
      },
      "source": [
        "print(X)"
      ],
      "execution_count": null,
      "outputs": []
    },
    {
      "cell_type": "markdown",
      "metadata": {
        "id": "cd4eMvpDy6YI",
        "colab_type": "text"
      },
      "source": [
        "**Importing Data**\n",
        "use file data.csv that is available"
      ]
    },
    {
      "cell_type": "code",
      "metadata": {
        "id": "ub1_ML2W06dA",
        "colab_type": "code",
        "colab": {}
      },
      "source": [
        "dataset = pd.read_csv('Data.csv')\n",
        "X = dataset.iloc[:, :-1].values\n",
        "y = dataset.iloc[:, -1].values"
      ],
      "execution_count": null,
      "outputs": []
    },
    {
      "cell_type": "markdown",
      "metadata": {
        "id": "iITAGJn31GMU",
        "colab_type": "text"
      },
      "source": [
        "**Taking care of missing Data**\n",
        "\n"
      ]
    },
    {
      "cell_type": "code",
      "metadata": {
        "id": "fHCfav3z1Vvn",
        "colab_type": "code",
        "colab": {}
      },
      "source": [
        "from sklearn.impute import SimpleImputer\n",
        "imputer = SimpleImputer(missing_values=np.nan, strategy='mean')\n",
        "imputer.fit(X[:, 1:3])\n",
        "X[:, 1:3] = imputer.transform(X[:, 1:3])"
      ],
      "execution_count": null,
      "outputs": []
    },
    {
      "cell_type": "code",
      "metadata": {
        "id": "Zq8etWJ76c_p",
        "colab_type": "code",
        "colab": {}
      },
      "source": [
        "print(X)"
      ],
      "execution_count": null,
      "outputs": []
    },
    {
      "cell_type": "markdown",
      "metadata": {
        "id": "vmGBZKad61IT",
        "colab_type": "text"
      },
      "source": [
        "**EnCoding Categorical Data**\n",
        "\n",
        "Since any ML code understand number only so we need the number. So we use encoding to be converted these into number. Generally following 2 mentods are used."
      ]
    },
    {
      "cell_type": "markdown",
      "metadata": {
        "id": "DZqs_L6f7qJN",
        "colab_type": "text"
      },
      "source": [
        "**EnCoding inDependent data**\n",
        "\n",
        "OneHotEncode - In this strategy, each category value is converted into a new column and assigned a 1 or 0. \n",
        "\n",
        "---\n",
        "\n",
        "\n",
        "![ohe.png](data:image/png;base64,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)\n",
        "\n",
        "\n",
        "\n",
        "---\n",
        "\n",
        "\n",
        "\n",
        "Note:- It is easy to use if unique value are limited."
      ]
    },
    {
      "cell_type": "code",
      "metadata": {
        "id": "DjYyA0q967L6",
        "colab_type": "code",
        "colab": {}
      },
      "source": [
        "from sklearn.compose import ColumnTransformer\n",
        "from sklearn.preprocessing import OneHotEncoder\n",
        "ct = ColumnTransformer(transformers=[('encoder', OneHotEncoder(), [0])], remainder='passthrough')\n",
        "X = np.array(ct.fit_transform(X))"
      ],
      "execution_count": null,
      "outputs": []
    },
    {
      "cell_type": "code",
      "metadata": {
        "id": "wTvCk7kt8ypM",
        "colab_type": "code",
        "colab": {}
      },
      "source": [
        "print(X)"
      ],
      "execution_count": null,
      "outputs": []
    },
    {
      "cell_type": "markdown",
      "metadata": {
        "id": "JHVdTvJ08uXQ",
        "colab_type": "text"
      },
      "source": [
        "**Encoding Dependent Data**\n",
        "\n",
        "LabelEncoder approach is very simple and it involves converting each value in a column to a number. Consider a dataset of bridges having a column names bridge-types having below values. \n",
        "\n",
        "\n",
        "---\n",
        "India as 1\n",
        "\n",
        "USA as 2\n",
        "\n",
        "Australia as 3\n",
        "\n"
      ]
    },
    {
      "cell_type": "code",
      "metadata": {
        "id": "wQqBOk3h8_7y",
        "colab_type": "code",
        "colab": {}
      },
      "source": [
        "from sklearn.preprocessing import LabelEncoder\n",
        "le = LabelEncoder()\n",
        "y = le.fit_transform(y)"
      ],
      "execution_count": null,
      "outputs": []
    },
    {
      "cell_type": "code",
      "metadata": {
        "id": "7BixdF0t9sT_",
        "colab_type": "code",
        "colab": {}
      },
      "source": [
        "print(y)"
      ],
      "execution_count": null,
      "outputs": []
    },
    {
      "cell_type": "markdown",
      "metadata": {
        "id": "eoeU1zgb-FaN",
        "colab_type": "text"
      },
      "source": [
        "**Feature Scaling**"
      ]
    },
    {
      "cell_type": "code",
      "metadata": {
        "id": "mozJ5olV-IWe",
        "colab_type": "code",
        "colab": {}
      },
      "source": [
        "from sklearn.preprocessing import StandardScaler\n",
        "sc = StandardScaler()\n",
        "X = sc.fit_transform(X)"
      ],
      "execution_count": null,
      "outputs": []
    },
    {
      "cell_type": "code",
      "metadata": {
        "id": "P9Nsbdy0ADNw",
        "colab_type": "code",
        "colab": {}
      },
      "source": [
        "print(X)"
      ],
      "execution_count": null,
      "outputs": []
    },
    {
      "cell_type": "markdown",
      "metadata": {
        "id": "vjzqShY4A7Ah",
        "colab_type": "text"
      },
      "source": [
        "**Spiliting the data set Training and Test set**"
      ]
    },
    {
      "cell_type": "code",
      "metadata": {
        "id": "K0HXV7GrBB7N",
        "colab_type": "code",
        "colab": {}
      },
      "source": [
        "from sklearn.model_selection import train_test_split\n",
        "X_train, X_test, y_train, y_test = train_test_split(X, y, test_size = 0.2, random_state = 0)"
      ],
      "execution_count": null,
      "outputs": []
    }
  ]
}