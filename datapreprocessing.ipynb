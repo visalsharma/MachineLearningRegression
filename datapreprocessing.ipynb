{
  "nbformat": 4,
  "nbformat_minor": 0,
  "metadata": {
    "colab": {
      "name": "datapreprocessing.ipynb",
      "provenance": []
    },
    "kernelspec": {
      "name": "python3",
      "display_name": "Python 3"
    }
  },
  "cells": [
    {
      "cell_type": "markdown",
      "metadata": {
        "id": "Wlw5kPNjxpYf",
        "colab_type": "text"
      },
      "source": [
        "**Importing the Library**"
      ]
    },
    {
      "cell_type": "markdown",
      "metadata": {
        "id": "NgfZbFc2JZXV",
        "colab_type": "text"
      },
      "source": [
        "File is basic steps need to prepare the data and do some data management. \n",
        "\n",
        "I am not the only one who created it completely. however learn from different teachers and experience. "
      ]
    },
    {
      "cell_type": "code",
      "metadata": {
        "id": "prRsFxL1xugz",
        "colab_type": "code",
        "colab": {}
      },
      "source": [
        "import numpy as np\n",
        "import matplotlib.pyplot as plt\n",
        "import pandas as pd"
      ],
      "execution_count": null,
      "outputs": []
    },
    {
      "cell_type": "code",
      "metadata": {
        "id": "8bfzQgZdPA1c",
        "colab_type": "code",
        "colab": {}
      },
      "source": [
        "print(X)"
      ],
      "execution_count": null,
      "outputs": []
    },
    {
      "cell_type": "markdown",
      "metadata": {
        "id": "cd4eMvpDy6YI",
        "colab_type": "text"
      },
      "source": [
        "**Importing Data**\n",
        "use file data.csv that is available"
      ]
    },
    {
      "cell_type": "code",
      "metadata": {
        "id": "ub1_ML2W06dA",
        "colab_type": "code",
        "colab": {}
      },
      "source": [
        "dataset = pd.read_csv('Data.csv')\n",
        "X = dataset.iloc[:, :-1].values\n",
        "y = dataset.iloc[:, -1].values"
      ],
      "execution_count": null,
      "outputs": []
    },
    {
      "cell_type": "markdown",
      "metadata": {
        "id": "iITAGJn31GMU",
        "colab_type": "text"
      },
      "source": [
        "**Taking care of missing Data**\n",
        "\n"
      ]
    },
    {
      "cell_type": "code",
      "metadata": {
        "id": "fHCfav3z1Vvn",
        "colab_type": "code",
        "colab": {}
      },
      "source": [
        "from sklearn.impute import SimpleImputer\n",
        "imputer = SimpleImputer(missing_values=np.nan, strategy='mean')\n",
        "imputer.fit(X[:, 1:3])\n",
        "X[:, 1:3] = imputer.transform(X[:, 1:3])"
      ],
      "execution_count": null,
      "outputs": []
    },
    {
      "cell_type": "code",
      "metadata": {
        "id": "Zq8etWJ76c_p",
        "colab_type": "code",
        "colab": {}
      },
      "source": [
        "print(X)"
      ],
      "execution_count": null,
      "outputs": []
    },
    {
      "cell_type": "markdown",
      "metadata": {
        "id": "vmGBZKad61IT",
        "colab_type": "text"
      },
      "source": [
        "**EnCoding Categorical Data**\n",
        "\n",
        "Since any ML code understand number only so we need the number. So we use encoding to be converted these into number. Generally following 2 mentods are used."
      ]
    },
    {
      "cell_type": "markdown",
      "metadata": {
        "id": "DZqs_L6f7qJN",
        "colab_type": "text"
      },
      "source": [
        "**EnCoding inDependent data**\n",
        "\n",
        "OneHotEncode - In this strategy, each category value is converted into a new column and assigned a 1 or 0. \n",
        "\n",
        "---\n",
        "\n
        "\n",
        "\n",
        "\n",
        "---\n",
        "\n",
        "\n",
        "\n",
        "Note:- It is easy to use if unique value are limited."
      ]
    },
    {
      "cell_type": "code",
      "metadata": {
        "id": "DjYyA0q967L6",
        "colab_type": "code",
        "colab": {}
      },
      "source": [
        "from sklearn.compose import ColumnTransformer\n",
        "from sklearn.preprocessing import OneHotEncoder\n",
        "ct = ColumnTransformer(transformers=[('encoder', OneHotEncoder(), [0])], remainder='passthrough')\n",
        "X = np.array(ct.fit_transform(X))"
      ],
      "execution_count": null,
      "outputs": []
    },
    {
      "cell_type": "code",
      "metadata": {
        "id": "wTvCk7kt8ypM",
        "colab_type": "code",
        "colab": {}
      },
      "source": [
        "print(X)"
      ],
      "execution_count": null,
      "outputs": []
    },
    {
      "cell_type": "markdown",
      "metadata": {
        "id": "JHVdTvJ08uXQ",
        "colab_type": "text"
      },
      "source": [
        "**Encoding Dependent Data**\n",
        "\n",
        "LabelEncoder approach is very simple and it involves converting each value in a column to a number. Consider a dataset of bridges having a column names bridge-types having below values. \n",
        "\n",
        "\n",
        "---\n",
        "India as 1\n",
        "\n",
        "USA as 2\n",
        "\n",
        "Australia as 3\n",
        "\n"
      ]
    },
    {
      "cell_type": "code",
      "metadata": {
        "id": "wQqBOk3h8_7y",
        "colab_type": "code",
        "colab": {}
      },
      "source": [
        "from sklearn.preprocessing import LabelEncoder\n",
        "le = LabelEncoder()\n",
        "y = le.fit_transform(y)"
      ],
      "execution_count": null,
      "outputs": []
    },
    {
      "cell_type": "code",
      "metadata": {
        "id": "7BixdF0t9sT_",
        "colab_type": "code",
        "colab": {}
      },
      "source": [
        "print(y)"
      ],
      "execution_count": null,
      "outputs": []
    },
    {
      "cell_type": "markdown",
      "metadata": {
        "id": "eoeU1zgb-FaN",
        "colab_type": "text"
      },
      "source": [
        "**Feature Scaling**"
      ]
    },
    {
      "cell_type": "code",
      "metadata": {
        "id": "mozJ5olV-IWe",
        "colab_type": "code",
        "colab": {}
      },
      "source": [
        "from sklearn.preprocessing import StandardScaler\n",
        "sc = StandardScaler()\n",
        "X = sc.fit_transform(X)"
      ],
      "execution_count": null,
      "outputs": []
    },
    {
      "cell_type": "code",
      "metadata": {
        "id": "P9Nsbdy0ADNw",
        "colab_type": "code",
        "colab": {}
      },
      "source": [
        "print(X)"
      ],
      "execution_count": null,
      "outputs": []
    },
    {
      "cell_type": "markdown",
      "metadata": {
        "id": "vjzqShY4A7Ah",
        "colab_type": "text"
      },
      "source": [
        "**Spiliting the data set Training and Test set**"
      ]
    },
    {
      "cell_type": "code",
      "metadata": {
        "id": "K0HXV7GrBB7N",
        "colab_type": "code",
        "colab": {}
      },
      "source": [
        "from sklearn.model_selection import train_test_split\n",
        "X_train, X_test, y_train, y_test = train_test_split(X, y, test_size = 0.2, random_state = 0)"
      ],
      "execution_count": null,
      "outputs": []
    }
  ]
}
